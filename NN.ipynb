{
 "cells": [
  {
   "cell_type": "code",
   "execution_count": 19,
   "metadata": {},
   "outputs": [],
   "source": [
    "# Loading all necessary libraries and packages\n",
    "\n",
    "import numpy as np\n",
    "import keras\n",
    "import pandas as pd\n",
    "from keras.models import Sequential\n",
    "from keras.layers import Embedding, Dense, LSTM, Dropout, Activation\n",
    "from keras.preprocessing.text import Tokenizer\n",
    "from keras.preprocessing.sequence import pad_sequences\n",
    "from keras.datasets import mnist\n",
    "import matplotlib.pyplot as plt\n",
    "import matplotlib.cm as cm"
   ]
  },
  {
   "cell_type": "markdown",
   "metadata": {},
   "source": [
    "# DATA\n",
    "\n",
    "Keras include sample datasets:\n",
    "https://www.kaggle.com/c/sentiment-analysis-on-movie-reviews\n",
    "    "
   ]
  },
  {
   "cell_type": "code",
   "execution_count": 20,
   "metadata": {
    "collapsed": true
   },
   "outputs": [],
   "source": [
    "# Loading train and test dataset from tsv files.\n",
    "\n",
    "TrainDataset = pd.read_csv('train.tsv', sep='\\t')\n",
    "TestDataset = pd.read_csv('test.tsv', sep='\\t')"
   ]
  },
  {
   "cell_type": "code",
   "execution_count": 21,
   "metadata": {},
   "outputs": [
    {
     "data": {
      "text/plain": [
       "Index(['PhraseId', 'SentenceId', 'Phrase', 'Sentiment'], dtype='object')"
      ]
     },
     "execution_count": 21,
     "metadata": {},
     "output_type": "execute_result"
    }
   ],
   "source": [
    "# Displaying all Train Data column labels \n",
    "# to find the proper one.\n",
    "\n",
    "TrainDataset.keys()"
   ]
  },
  {
   "cell_type": "code",
   "execution_count": 22,
   "metadata": {},
   "outputs": [
    {
     "data": {
      "text/plain": [
       "\"Tartakovsky 's team has some freakish powers of visual charm , but the five writers slip into the modern rut of narrative banality\""
      ]
     },
     "execution_count": 22,
     "metadata": {},
     "output_type": "execute_result"
    }
   ],
   "source": [
    " # Displaying part of Train Data to see what's in.\n",
    "    \n",
    "TrainDataset['Phrase'][1100]"
   ]
  },
  {
   "cell_type": "code",
   "execution_count": 23,
   "metadata": {},
   "outputs": [
    {
     "data": {
      "text/plain": [
       "(156060, 4)"
      ]
     },
     "execution_count": 23,
     "metadata": {},
     "output_type": "execute_result"
    }
   ],
   "source": [
    "# Checking the size of train dataset \n",
    "# to predict max words amount.\n",
    "\n",
    "TrainDataset.shape"
   ]
  },
  {
   "cell_type": "markdown",
   "metadata": {},
   "source": [
    "# Tokenize reviews"
   ]
  },
  {
   "cell_type": "code",
   "execution_count": 24,
   "metadata": {
    "collapsed": true
   },
   "outputs": [],
   "source": [
    "# Estimation of max words amount in one data cell.\n",
    "NumberOfWords = 100\n",
    "\n",
    "# Tokenize reviews.\n",
    "tokenizer = Tokenizer(num_words = NumberOfWords, split=' ')\n",
    "tokenizer.fit_on_texts(TrainDataset['Phrase'].values)\n",
    "\n",
    "# Determination the representation of sentences as numerical.\n",
    "train_data = tokenizer.texts_to_sequences(TrainDataset['Phrase'].values)\n",
    "test_data = tokenizer.texts_to_sequences(TestDataset['Phrase'].values)\n",
    "\n",
    "# Changing the shape of train and test datasets.\n",
    "ReshapedTrainingDataset = pad_sequences(train_data)\n",
    "ReshapedTestDataset = pad_sequences(test_data)\n",
    "\n",
    "# Obtain one-hot encoding of class labels.\n",
    "Sentiments = pd.get_dummies(TrainDataset['Sentiment']).values"
   ]
  },
  {
   "cell_type": "markdown",
   "metadata": {},
   "source": [
    "# Naural Network model creation"
   ]
  },
  {
   "cell_type": "code",
   "execution_count": 25,
   "metadata": {},
   "outputs": [
    {
     "name": "stdout",
     "output_type": "stream",
     "text": [
      "_________________________________________________________________\n",
      "Layer (type)                 Output Shape              Param #   \n",
      "=================================================================\n",
      "embedding_3 (Embedding)      (None, 30, 64)            6400      \n",
      "_________________________________________________________________\n",
      "lstm_3 (LSTM)                (None, 128)               98816     \n",
      "_________________________________________________________________\n",
      "dense_3 (Dense)              (None, 5)                 645       \n",
      "=================================================================\n",
      "Total params: 105,861\n",
      "Trainable params: 105,861\n",
      "Non-trainable params: 0\n",
      "_________________________________________________________________\n"
     ]
    }
   ],
   "source": [
    "# Model creation. Definition of basic assumptions of\n",
    "# neural network : adagrad (back propagation algorithm),\n",
    "# probability value as NN return value.\n",
    "# Additionally - displaying the percent value of\n",
    "# properly classiffied probes\n",
    "\n",
    "model = Sequential()\n",
    "model.add(Embedding(NumberOfWords, 64, input_length=30))\n",
    "model.add(LSTM(128, dropout=0.2, recurrent_dropout=0.2))\n",
    "model.add(Dense(5, activation='softmax'))\n",
    "model.compile(loss='categorical_crossentropy', optimizer='adagrad', metrics=['accuracy'])\n",
    "\n",
    "model.summary()"
   ]
  },
  {
   "cell_type": "markdown",
   "metadata": {},
   "source": [
    "# Model training"
   ]
  },
  {
   "cell_type": "code",
   "execution_count": 29,
   "metadata": {},
   "outputs": [
    {
     "name": "stdout",
     "output_type": "stream",
     "text": [
      "Epoch 1/6\n",
      "156060/156060 [==============================] - 195s 1ms/step - loss: 1.1776 - acc: 0.5375\n",
      "Epoch 2/6\n",
      "156060/156060 [==============================] - 220s 1ms/step - loss: 1.1767 - acc: 0.5375\n",
      "Epoch 3/6\n",
      "156060/156060 [==============================] - 269s 2ms/step - loss: 1.1760 - acc: 0.5384\n",
      "Epoch 4/6\n",
      "156060/156060 [==============================] - 260s 2ms/step - loss: 1.1756 - acc: 0.5389\n",
      "Epoch 5/6\n",
      "156060/156060 [==============================] - 237s 2ms/step - loss: 1.1746 - acc: 0.5382\n",
      "Epoch 6/6\n",
      "156060/156060 [==============================] - 306s 2ms/step - loss: 1.1740 - acc: 0.5387\n"
     ]
    }
   ],
   "source": [
    "# Model training in 6 epochs.\n",
    "\n",
    "hist=model.fit(ReshapedTrainingDataset, Sentiments, epochs=6, batch_size=128, verbose=1)"
   ]
  },
  {
   "cell_type": "markdown",
   "metadata": {},
   "source": [
    "# Results' vizualization"
   ]
  },
  {
   "cell_type": "code",
   "execution_count": 30,
   "metadata": {},
   "outputs": [
    {
     "name": "stdout",
     "output_type": "stream",
     "text": [
      "Quick visualization of model training history\n"
     ]
    },
    {
     "data": {
      "image/png": "[encoded data removed]",
      "text/plain": [
       "<matplotlib.figure.Figure at 0x259a617cef0>"
      ]
     },
     "metadata": {},
     "output_type": "display_data"
    },
    {
     "data": {
      "image/png": "[encoded data removed]",
      "text/plain": [
       "<matplotlib.figure.Figure at 0x259a62fefd0>"
      ]
     },
     "metadata": {},
     "output_type": "display_data"
    }
   ],
   "source": [
    "print('Quick visualization of model training history')\n",
    "plt.plot(hist.history['acc'])\n",
    "plt.title('model accuracy')\n",
    "plt.ylabel('accuracy')\n",
    "plt.xlabel('epoch')\n",
    "plt.legend(['train'], loc='upper left')\n",
    "plt.show()\n",
    "\n",
    "# summarize history for loss\n",
    "plt.plot(hist.history['loss'])\n",
    "plt.title('model loss')\n",
    "plt.ylabel('loss')\n",
    "plt.xlabel('epoch')\n",
    "plt.legend(['train'], loc='upper left')\n",
    "plt.show()"
   ]
  },
  {
   "cell_type": "code",
   "execution_count": 27,
   "metadata": {},
   "outputs": [
    {
     "name": "stdout",
     "output_type": "stream",
     "text": [
      "156060/156060 [==============================] - 74s 473us/step\n",
      "Result of right calssification (based on train dataset): 53.8357%\n"
     ]
    }
   ],
   "source": [
    "FinalResult = model.evaluate(ReshapedTrainingDataset, Sentiments, verbose=1)\n",
    "ResultOfRightCalssification = 100*FinalResult[1]\n",
    "print('Result of right calssification (based on train dataset): %.4f%%' % ResultOfRightCalssification)"
   ]
  }
 ],
 "metadata": {
  "kernelspec": {
   "display_name": "Python 3",
   "language": "python",
   "name": "python3"
  },
  "language_info": {
   "codemirror_mode": {
    "name": "ipython",
    "version": 3
   },
   "file_extension": ".py",
   "mimetype": "text/x-python",
   "name": "python",
   "nbconvert_exporter": "python",
   "pygments_lexer": "ipython3",
   "version": "3.5.4"
  }
 },
 "nbformat": 4,
 "nbformat_minor": 2
}
